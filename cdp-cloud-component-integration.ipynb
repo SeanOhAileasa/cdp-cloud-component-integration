{
 "cells": [
  {
   "cell_type": "markdown",
   "id": "d4ee9e4b",
   "metadata": {},
   "source": [
    "***\n",
    "< [Home](https://github.com/SeanOhAileasa) | [README](https://github.com/SeanOhAileasa/cdp-cloud-component-integration/blob/main/README.md) >\n",
    "\n",
    "## CompTIA Cloud+ - Course Material 2022\n",
    "###### Topic: ``Cloud Component Integration``\n",
    "***"
   ]
  },
  {
   "cell_type": "markdown",
   "id": "e7228f57",
   "metadata": {},
   "source": [
    "<a id=\"top\"></a>\n",
    "***\n",
    "## Table of Contents\n",
    "***"
   ]
  },
  {
   "cell_type": "markdown",
   "id": "c2bb5e7b",
   "metadata": {},
   "source": [
    "### [Cloud Component Integration](#aa) <br/><br/>\n",
    "<hr width=50%;>"
   ]
  },
  {
   "cell_type": "markdown",
   "id": "22304b5d",
   "metadata": {},
   "source": [
    "### [Subscription Services Integration](#A) <br/><br/>\n",
    "<hr width=50%;>"
   ]
  },
  {
   "cell_type": "markdown",
   "id": "be26c2d0",
   "metadata": {},
   "source": [
    "### [Architectural Services Integration](#B) <br/><br/>\n",
    "<hr width=50%;>"
   ]
  },
  {
   "cell_type": "markdown",
   "id": "3eea847a",
   "metadata": {},
   "source": [
    "### [Provisioning Resources](#C) <br/><br/>\n",
    "<hr width=50%;>"
   ]
  },
  {
   "cell_type": "markdown",
   "id": "23aa5d9a",
   "metadata": {},
   "source": [
    "### [Cloud Applications Integration](#D) <br/><br/>\n",
    "<hr width=50%;>"
   ]
  },
  {
   "cell_type": "markdown",
   "id": "e9fd15e2",
   "metadata": {},
   "source": [
    "### [Virtual Machine Integration](#E) <br/><br/>\n",
    "<hr width=50%;>"
   ]
  },
  {
   "cell_type": "markdown",
   "id": "cd7aa62e",
   "metadata": {},
   "source": [
    "### [Template Integration](#F) <br/><br/>\n",
    "<hr width=50%;>"
   ]
  },
  {
   "cell_type": "markdown",
   "id": "4ff4d58f",
   "metadata": {},
   "source": [
    "### [Identity Management Integration](#G) <br/><br/>\n",
    "<hr width=50%;>"
   ]
  },
  {
   "cell_type": "markdown",
   "id": "be57a33d",
   "metadata": {},
   "source": [
    "### [Container Integration](#H) <br/><br/>\n",
    "<hr width=50%;>"
   ]
  },
  {
   "cell_type": "markdown",
   "id": "36535627",
   "metadata": {},
   "source": [
    "### [Autoscaling Integration](#I) <br/><br/>\n",
    "<hr width=50%;>"
   ]
  },
  {
   "cell_type": "markdown",
   "id": "813bfda4",
   "metadata": {},
   "source": [
    "### [Post-deployment Validation](#J) <br/><br/>\n",
    "<hr width=50%;>"
   ]
  },
  {
   "cell_type": "markdown",
   "id": "b106736b",
   "metadata": {},
   "source": [
    "### [Course Summary](#K) <br/><br/>\n",
    "<hr width=50%;>"
   ]
  },
  {
   "cell_type": "markdown",
   "id": "bf2b95e2",
   "metadata": {},
   "source": [
    "***\n",
    "## END"
   ]
  },
  {
   "cell_type": "markdown",
   "id": "34aa6eb5",
   "metadata": {},
   "source": [
    "< [Table of Contents](#top) | [References](#references) >\n",
    "<a id=\"aa\"></a>\n",
    "***\n",
    "### Cloud Component Integration\n",
    "***"
   ]
  },
  {
   "cell_type": "markdown",
   "id": "7cc886ff",
   "metadata": {},
   "source": []
  },
  {
   "cell_type": "markdown",
   "id": "8e213c97",
   "metadata": {},
   "source": [
    "< [Table of Contents](#top) | [References](#references) >\n",
    "<a id=\"A\"></a>\n",
    "***\n",
    "### Subscription Services Integration\n",
    "*** "
   ]
  },
  {
   "cell_type": "markdown",
   "id": "e0a45476",
   "metadata": {},
   "source": []
  },
  {
   "cell_type": "markdown",
   "id": "4cf83819",
   "metadata": {},
   "source": [
    "< [Table of Contents](#top) | [References](#references) >\n",
    "<a id=\"B\"></a>\n",
    "***\n",
    "### Architectural Services Integration\n",
    "*** "
   ]
  },
  {
   "cell_type": "markdown",
   "id": "8dfcde25",
   "metadata": {},
   "source": []
  },
  {
   "cell_type": "markdown",
   "id": "fd29de96",
   "metadata": {},
   "source": [
    "< [Table of Contents](#top) | [References](#references) >\n",
    "<a id=\"C\"></a>\n",
    "***\n",
    "### Provisioning Resources\n",
    "*** "
   ]
  },
  {
   "cell_type": "markdown",
   "id": "3624a16e",
   "metadata": {},
   "source": []
  },
  {
   "cell_type": "markdown",
   "id": "ef594640",
   "metadata": {},
   "source": [
    "< [Table of Contents](#top) | [References](#references) >\n",
    "<a id=\"D\"></a>\n",
    "***\n",
    "### Cloud Applications Integration\n",
    "*** "
   ]
  },
  {
   "cell_type": "markdown",
   "id": "aa170233",
   "metadata": {},
   "source": []
  },
  {
   "cell_type": "markdown",
   "id": "021b49ba",
   "metadata": {},
   "source": [
    "< [Table of Contents](#top) | [References](#references) >\n",
    "<a id=\"E\"></a>\n",
    "***\n",
    "### Virtual Machine Integration\n",
    "*** "
   ]
  },
  {
   "cell_type": "markdown",
   "id": "241fb479",
   "metadata": {},
   "source": []
  },
  {
   "cell_type": "markdown",
   "id": "cd61d32a",
   "metadata": {},
   "source": [
    "< [Table of Contents](#top) | [References](#references) >\n",
    "<a id=\"F\"></a>\n",
    "***\n",
    "### Template Integration\n",
    "*** "
   ]
  },
  {
   "cell_type": "markdown",
   "id": "c65625b5",
   "metadata": {},
   "source": []
  },
  {
   "cell_type": "markdown",
   "id": "93355bdc",
   "metadata": {},
   "source": [
    "< [Table of Contents](#top) | [References](#references) >\n",
    "<a id=\"G\"></a>\n",
    "***\n",
    "### Identity Management Integration\n",
    "*** "
   ]
  },
  {
   "cell_type": "markdown",
   "id": "b70e669e",
   "metadata": {},
   "source": []
  },
  {
   "cell_type": "markdown",
   "id": "1a96d39b",
   "metadata": {},
   "source": [
    "< [Table of Contents](#top) | [References](#references) >\n",
    "<a id=\"H\"></a>\n",
    "***\n",
    "### Container Integration\n",
    "*** "
   ]
  },
  {
   "cell_type": "markdown",
   "id": "1a49a3ce",
   "metadata": {},
   "source": []
  },
  {
   "cell_type": "markdown",
   "id": "9e51f6ca",
   "metadata": {},
   "source": [
    "< [Table of Contents](#top) | [References](#references) >\n",
    "<a id=\"I\"></a>\n",
    "***\n",
    "### Autoscaling Integration\n",
    "*** "
   ]
  },
  {
   "cell_type": "markdown",
   "id": "66bf70fd",
   "metadata": {},
   "source": []
  },
  {
   "cell_type": "markdown",
   "id": "4597d7fb",
   "metadata": {},
   "source": [
    "< [Table of Contents](#top) | [References](#references) >\n",
    "<a id=\"J\"></a>\n",
    "***\n",
    "### Post-deployment Validation\n",
    "*** "
   ]
  },
  {
   "cell_type": "markdown",
   "id": "6cbf5d5c",
   "metadata": {},
   "source": []
  },
  {
   "cell_type": "markdown",
   "id": "6dac30d8",
   "metadata": {},
   "source": [
    "< [Table of Contents](#top) | [References](#references) >\n",
    "<a id=\"K\"></a>\n",
    "***\n",
    "### Course Summary\n",
    "*** "
   ]
  },
  {
   "cell_type": "markdown",
   "id": "5101f8e3",
   "metadata": {},
   "source": []
  },
  {
   "cell_type": "markdown",
   "id": "2cc20932",
   "metadata": {},
   "source": [
    "***\n",
    "## END"
   ]
  },
  {
   "cell_type": "markdown",
   "id": "e0e42d51",
   "metadata": {},
   "source": [
    "< [Table of Contents](#top) >\n",
    "<a id=\"references\"></a>\n",
    "***\n",
    "## References\n",
    "***"
   ]
  },
  {
   "cell_type": "markdown",
   "id": "757bf6de",
   "metadata": {},
   "source": [
    "&nbsp;&nbsp;&nbsp;&nbsp;&nbsp;&nbsp;&nbsp;&nbsp;&nbsp;skillsoft, \"Cloud Component Integration,\" [skillsoft.com](https://web.archive.org/web/20220403100053/https://www.skillsoft.com/), n.d.."
   ]
  },
  {
   "cell_type": "markdown",
   "id": "b33c372a",
   "metadata": {},
   "source": [
    "***\n",
    "## END"
   ]
  },
  {
   "cell_type": "markdown",
   "id": "e5961b4d",
   "metadata": {},
   "source": [
    "< [Table of Contents](#top) | [References](#references) >\n",
    "<a id=\"appendix\"></a>\n",
    "***\n",
    "## Appendix\n",
    "***"
   ]
  },
  {
   "cell_type": "markdown",
   "id": "00d82a82",
   "metadata": {},
   "source": [
    "***\n",
    "## END"
   ]
  },
  {
   "cell_type": "code",
   "execution_count": 1,
   "id": "706756a2",
   "metadata": {},
   "outputs": [
    {
     "name": "stderr",
     "output_type": "stream",
     "text": [
      "C:\\Users\\SeanOhAileasa\\AppData\\Local\\Temp\\ipykernel_15656\\1322614208.py:1: DeprecationWarning: Importing display from IPython.core.display is deprecated since IPython 7.14, please import from IPython display\n",
      "  from IPython.core.display import display,HTML\n"
     ]
    },
    {
     "data": {
      "text/html": [
       "<style>.container { width:100% !important; }</style>"
      ],
      "text/plain": [
       "<IPython.core.display.HTML object>"
      ]
     },
     "metadata": {},
     "output_type": "display_data"
    }
   ],
   "source": [
    "from IPython.core.display import display,HTML\n",
    "display(HTML(\"<style>.container { width:100% !important; }</style>\"))"
   ]
  },
  {
   "cell_type": "markdown",
   "id": "899c1783",
   "metadata": {},
   "source": [
    "# END JUPYTER NOTEBOOK"
   ]
  }
 ],
 "metadata": {
  "kernelspec": {
   "display_name": "Python 3 (ipykernel)",
   "language": "python",
   "name": "python3"
  },
  "language_info": {
   "codemirror_mode": {
    "name": "ipython",
    "version": 3
   },
   "file_extension": ".py",
   "mimetype": "text/x-python",
   "name": "python",
   "nbconvert_exporter": "python",
   "pygments_lexer": "ipython3",
   "version": "3.9.12"
  }
 },
 "nbformat": 4,
 "nbformat_minor": 5
}
